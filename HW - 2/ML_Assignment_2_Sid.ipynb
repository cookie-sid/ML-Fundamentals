{
 "cells": [
  {
   "cell_type": "markdown",
   "metadata": {},
   "source": [
    "# Problem 1:"
   ]
  },
  {
   "cell_type": "markdown",
   "metadata": {},
   "source": [
    "## Importing Libraries"
   ]
  },
  {
   "cell_type": "code",
   "execution_count": 435,
   "metadata": {},
   "outputs": [],
   "source": [
    "import numpy as np\n",
    "import pandas as pd\n",
    "import seaborn as sns\n",
    "from sklearn.model_selection import train_test_split\n",
    "from sklearn.metrics import confusion_matrix\n",
    "from sklearn.metrics import accuracy_score\n",
    "from sklearn.preprocessing import StandardScaler\n",
    "from sklearn.discriminant_analysis import LinearDiscriminantAnalysis\n",
    "import matplotlib.pyplot as plt\n",
    "from sklearn.decomposition import PCA\n",
    "from sklearn.metrics import mean_squared_error\n",
    "from sklearn.model_selection import KFold\n",
    "from sklearn.model_selection import RepeatedKFold\n",
    "from sklearn.model_selection import cross_val_score"
   ]
  },
  {
   "cell_type": "markdown",
   "metadata": {},
   "source": [
    "## Reading the dataset"
   ]
  },
  {
   "cell_type": "code",
   "execution_count": 436,
   "metadata": {},
   "outputs": [
    {
     "data": {
      "text/html": [
       "<div>\n",
       "<style scoped>\n",
       "    .dataframe tbody tr th:only-of-type {\n",
       "        vertical-align: middle;\n",
       "    }\n",
       "\n",
       "    .dataframe tbody tr th {\n",
       "        vertical-align: top;\n",
       "    }\n",
       "\n",
       "    .dataframe thead th {\n",
       "        text-align: right;\n",
       "    }\n",
       "</style>\n",
       "<table border=\"1\" class=\"dataframe\">\n",
       "  <thead>\n",
       "    <tr style=\"text-align: right;\">\n",
       "      <th></th>\n",
       "      <th>sepal-length</th>\n",
       "      <th>sepal-width</th>\n",
       "      <th>petal-length</th>\n",
       "      <th>petal-width</th>\n",
       "      <th>class</th>\n",
       "    </tr>\n",
       "  </thead>\n",
       "  <tbody>\n",
       "    <tr>\n",
       "      <th>0</th>\n",
       "      <td>5.1</td>\n",
       "      <td>3.5</td>\n",
       "      <td>1.4</td>\n",
       "      <td>0.2</td>\n",
       "      <td>Iris-setosa</td>\n",
       "    </tr>\n",
       "    <tr>\n",
       "      <th>1</th>\n",
       "      <td>4.9</td>\n",
       "      <td>3.0</td>\n",
       "      <td>1.4</td>\n",
       "      <td>0.2</td>\n",
       "      <td>Iris-setosa</td>\n",
       "    </tr>\n",
       "    <tr>\n",
       "      <th>2</th>\n",
       "      <td>4.7</td>\n",
       "      <td>3.2</td>\n",
       "      <td>1.3</td>\n",
       "      <td>0.2</td>\n",
       "      <td>Iris-setosa</td>\n",
       "    </tr>\n",
       "    <tr>\n",
       "      <th>3</th>\n",
       "      <td>4.6</td>\n",
       "      <td>3.1</td>\n",
       "      <td>1.5</td>\n",
       "      <td>0.2</td>\n",
       "      <td>Iris-setosa</td>\n",
       "    </tr>\n",
       "    <tr>\n",
       "      <th>4</th>\n",
       "      <td>5.0</td>\n",
       "      <td>3.6</td>\n",
       "      <td>1.4</td>\n",
       "      <td>0.2</td>\n",
       "      <td>Iris-setosa</td>\n",
       "    </tr>\n",
       "  </tbody>\n",
       "</table>\n",
       "</div>"
      ],
      "text/plain": [
       "   sepal-length  sepal-width  petal-length  petal-width        class\n",
       "0           5.1          3.5           1.4          0.2  Iris-setosa\n",
       "1           4.9          3.0           1.4          0.2  Iris-setosa\n",
       "2           4.7          3.2           1.3          0.2  Iris-setosa\n",
       "3           4.6          3.1           1.5          0.2  Iris-setosa\n",
       "4           5.0          3.6           1.4          0.2  Iris-setosa"
      ]
     },
     "execution_count": 436,
     "metadata": {},
     "output_type": "execute_result"
    }
   ],
   "source": [
    "url = 'https://archive.ics.uci.edu/ml/machine-learning-databases/iris/iris.data'\n",
    "headers = ['sepal-length', 'sepal-width', 'petal-length', 'petal-width', 'class']\n",
    "iris = pd.read_csv(url, names = headers)\n",
    "names = iris['class'].unique()\n",
    "iris.head()"
   ]
  },
  {
   "cell_type": "markdown",
   "metadata": {},
   "source": [
    "### Since I wasn't sure of what I was supposed to do for this question, I did two things which I thought you might have asked. For the first part I have divided the dataset into pairs of classes and then I have implemented LDA on 67% of the grouped dataset and then tested it against for our test dataset and reported an accuracy score for that. For the second part I have just implemented a simple LDA for all the classes combined and plotted a graph out of the results."
   ]
  },
  {
   "cell_type": "markdown",
   "metadata": {},
   "source": [
    "## Part 1"
   ]
  },
  {
   "cell_type": "markdown",
   "metadata": {},
   "source": [
    "## Grouping the dataset into pairs"
   ]
  },
  {
   "cell_type": "code",
   "execution_count": 437,
   "metadata": {},
   "outputs": [],
   "source": [
    "grouped = iris.groupby('class')\n",
    "\n",
    "# t1,t2,t3 contain datasets of class types 1,2,3 respectively\n",
    "t1 = grouped.get_group(names[0])\n",
    "t2 = grouped.get_group(names[1])\n",
    "t3 = grouped.get_group(names[2])\n",
    "\n",
    "# pairing datasets since we will perform LDA pairwise\n",
    "one_and_two = t1.append(t2)\n",
    "two_and_three = t2.append(t3)\n",
    "one_and_three = t1.append(t3)\n"
   ]
  },
  {
   "cell_type": "markdown",
   "metadata": {},
   "source": [
    "## Defining LDA model"
   ]
  },
  {
   "cell_type": "code",
   "execution_count": 438,
   "metadata": {},
   "outputs": [],
   "source": [
    "lda = LinearDiscriminantAnalysis(n_components = 1)"
   ]
  },
  {
   "cell_type": "markdown",
   "metadata": {},
   "source": [
    "## For classes 1 and 2:"
   ]
  },
  {
   "cell_type": "markdown",
   "metadata": {},
   "source": [
    "## Seperating features and the classes"
   ]
  },
  {
   "cell_type": "code",
   "execution_count": 439,
   "metadata": {},
   "outputs": [],
   "source": [
    "X = one_and_two[one_and_two.columns[0:4]]\n",
    "y = one_and_two[one_and_two.columns[4]]"
   ]
  },
  {
   "cell_type": "markdown",
   "metadata": {},
   "source": [
    "## Testing LDA model"
   ]
  },
  {
   "cell_type": "code",
   "execution_count": 440,
   "metadata": {},
   "outputs": [
    {
     "name": "stdout",
     "output_type": "stream",
     "text": [
      "Accuracy score:\n"
     ]
    },
    {
     "data": {
      "text/plain": [
       "1.0"
      ]
     },
     "execution_count": 440,
     "metadata": {},
     "output_type": "execute_result"
    }
   ],
   "source": [
    "X_train, X_test, y_train, y_test = train_test_split(X, y, test_size=0.33, random_state=42)\n",
    "\n",
    "lda.fit(X_train, y_train)\n",
    "y_pred = lda.predict(X_test)\n",
    "print('Accuracy score:')\n",
    "accuracy_score(y_test,y_pred)"
   ]
  },
  {
   "cell_type": "markdown",
   "metadata": {},
   "source": [
    "## For classes 2 and 3:"
   ]
  },
  {
   "cell_type": "markdown",
   "metadata": {},
   "source": [
    "## Seperating features and classes"
   ]
  },
  {
   "cell_type": "code",
   "execution_count": 441,
   "metadata": {},
   "outputs": [],
   "source": [
    "X = two_and_three[two_and_three.columns[0:4]]\n",
    "y = two_and_three[two_and_three.columns[4]]"
   ]
  },
  {
   "cell_type": "markdown",
   "metadata": {},
   "source": [
    "## Testing LDA model"
   ]
  },
  {
   "cell_type": "code",
   "execution_count": 442,
   "metadata": {},
   "outputs": [
    {
     "name": "stdout",
     "output_type": "stream",
     "text": [
      "Accuracy score:\n"
     ]
    },
    {
     "data": {
      "text/plain": [
       "0.8787878787878788"
      ]
     },
     "execution_count": 442,
     "metadata": {},
     "output_type": "execute_result"
    }
   ],
   "source": [
    "X_train, X_test, y_train, y_test = train_test_split(X, y, test_size=0.33, random_state=42)\n",
    "\n",
    "lda.fit(X_train, y_train)\n",
    "y_pred = lda.predict(X_test)\n",
    "print('Accuracy score:')\n",
    "accuracy_score(y_test,y_pred)"
   ]
  },
  {
   "cell_type": "markdown",
   "metadata": {},
   "source": [
    "## For classes 1 and 3:"
   ]
  },
  {
   "cell_type": "markdown",
   "metadata": {},
   "source": [
    "## Seperating features and classes"
   ]
  },
  {
   "cell_type": "code",
   "execution_count": 443,
   "metadata": {},
   "outputs": [],
   "source": [
    "X = one_and_three[one_and_three.columns[0:4]]\n",
    "y = one_and_three[one_and_three.columns[4]]"
   ]
  },
  {
   "cell_type": "markdown",
   "metadata": {},
   "source": [
    "## Testing LDA model"
   ]
  },
  {
   "cell_type": "code",
   "execution_count": 444,
   "metadata": {},
   "outputs": [
    {
     "name": "stdout",
     "output_type": "stream",
     "text": [
      "Accuracy score:\n"
     ]
    },
    {
     "data": {
      "text/plain": [
       "1.0"
      ]
     },
     "execution_count": 444,
     "metadata": {},
     "output_type": "execute_result"
    }
   ],
   "source": [
    "X_train, X_test, y_train, y_test = train_test_split(X, y, test_size=0.33, random_state=42)\n",
    "\n",
    "lda.fit(X_train, y_train)\n",
    "y_pred = lda.predict(X_test)\n",
    "print('Accuracy score:')\n",
    "accuracy_score(y_test,y_pred)"
   ]
  },
  {
   "cell_type": "markdown",
   "metadata": {},
   "source": [
    "## Part 2"
   ]
  },
  {
   "cell_type": "markdown",
   "metadata": {},
   "source": [
    "### Here I just apply simple LDA to the whole dataset and plot the obtained result on a graph to visualize the groupings done by the model."
   ]
  },
  {
   "cell_type": "markdown",
   "metadata": {},
   "source": [
    "## Seperating features and classes"
   ]
  },
  {
   "cell_type": "code",
   "execution_count": 445,
   "metadata": {},
   "outputs": [],
   "source": [
    "X = iris[iris.columns[0:4]]\n",
    "y = iris[iris.columns[4]]"
   ]
  },
  {
   "cell_type": "markdown",
   "metadata": {},
   "source": [
    "## Implementing LDA model"
   ]
  },
  {
   "cell_type": "code",
   "execution_count": 446,
   "metadata": {},
   "outputs": [
    {
     "data": {
      "image/png": "[encoded data removed]",
      "text/plain": [
       "<Figure size 360x360 with 1 Axes>"
      ]
     },
     "metadata": {
      "needs_background": "light"
     },
     "output_type": "display_data"
    }
   ],
   "source": [
    "lda = LinearDiscriminantAnalysis(n_components = 2)\n",
    "# passing features as an input and class as an output\n",
    "X_vals = lda.fit(X,y)\n",
    "# we know that for LDA, we get two parameters ld1 and ld2, so X_vals contains ld1 and ld2\n",
    "X_vals = X_vals.transform(X)\n",
    "# making a final dataframe contain X_vals and corresponding y values\n",
    "lda_final = pd.DataFrame(X_vals)\n",
    "lda_final['class'] = y\n",
    "lda_final.columns=[\"LD1\",\"LD2\",\"class\"]\n",
    "# plotting the graph LD1 vs LD2\n",
    "markers = ['^', 's', 'o']\n",
    "sns.lmplot(x=\"LD1\", y=\"LD2\", data = lda_final, hue = 'class', markers = markers, fit_reg=False, legend=False)\n",
    "plt.legend(loc='upper center')\n",
    "plt.show()\n"
   ]
  },
  {
   "cell_type": "markdown",
   "metadata": {},
   "source": [
    "# Problem 2 (2):"
   ]
  },
  {
   "cell_type": "markdown",
   "metadata": {},
   "source": [
    "## Importing Libraries"
   ]
  },
  {
   "cell_type": "code",
   "execution_count": 447,
   "metadata": {},
   "outputs": [],
   "source": [
    "from numpy import log, dot, e\n",
    "from sklearn.model_selection import KFold\n",
    "import random\n",
    "from sklearn.metrics import confusion_matrix, classification_report\n",
    "from sklearn.preprocessing import MinMaxScaler\n",
    "from sklearn.datasets import load_breast_cancer"
   ]
  },
  {
   "cell_type": "markdown",
   "metadata": {},
   "source": [
    "## Reading and scaling the dataset"
   ]
  },
  {
   "cell_type": "code",
   "execution_count": 448,
   "metadata": {},
   "outputs": [],
   "source": [
    "url = 'https://archive.ics.uci.edu/ml/machine-learning-databases/breast-cancer-wisconsin/wdbc.data'\n",
    "headers = ['id', 'type', 'mean radius', 'mean texture', 'mean perimeter', 'mean area', 'mean smoothness', 'mean compactness', 'mean concavity', 'mean concave points', 'mean symmetry', 'mean fractal dimension', 'radius error', 'texture error', 'perimeter error', 'area error', 'smoothness error', 'compactness error', 'concavity error', 'concave points error', 'symmetry error', 'fractal dimension error', 'worst radius', 'worst texture', 'worst perimeter', 'worst area', 'worst smoothness', 'worst compactness', 'worst concavity', 'worst concave points', 'worst symmetry', 'worst fractal dimension']\n",
    "bc = pd.read_csv(url,names = headers)\n",
    "\n",
    "# Replacing M with 1 and B with 0 for simplicity\n",
    "bc = bc.replace('M',1)\n",
    "bc = bc.replace('B',0)\n",
    "\n",
    "# Converting to array for scaling\n",
    "temp = bc[bc.columns[1:2]]\n",
    "temp = temp.to_numpy().reshape(len(temp))\n",
    "temp2 = bc[bc.columns[2:]]\n",
    "temp2 = temp2.to_numpy()"
   ]
  },
  {
   "cell_type": "markdown",
   "metadata": {},
   "source": [
    "## Defining our custom Logistic Regression with Stochastic and Mini-Batch gradient descent"
   ]
  },
  {
   "cell_type": "markdown",
   "metadata": {},
   "source": [
    "## Stochastic Gradient Descent:"
   ]
  },
  {
   "cell_type": "code",
   "execution_count": 449,
   "metadata": {},
   "outputs": [],
   "source": [
    "class LogisticRS:\n",
    "    \n",
    "    # defining instance variables \n",
    "    def __init__(self, lr = 0.0001, iters = 9000):\n",
    "        self.lr = lr\n",
    "        self.iters = iters\n",
    "        self.weights = None\n",
    "        self.bias = None\n",
    "    \n",
    "    def fit(self, X, y):\n",
    "        # initialize paramenters\n",
    "        samples, features = X.shape\n",
    "        # initializing weights to zero\n",
    "        self.weights = np.zeros(features)\n",
    "        self.bias = 0\n",
    "        #for graph plotting purposes\n",
    "        cost_list = []\n",
    "        epoch_list = []\n",
    "        \n",
    "        # stochastic gradient descent algorithm\n",
    "        for i in range(self.iters):\n",
    "            # picking a random index\n",
    "            r_index = random.randint(0,samples - 1)\n",
    "            # getting data for that particular index\n",
    "            sample_x = X[r_index]\n",
    "            sample_y = y[r_index]\n",
    "            # getting value for the logistic regression equation\n",
    "            linear_model = np.dot(sample_x, self.weights) + self.bias\n",
    "            # applying sigmoid to the value\n",
    "            y_pred = self._sigmoid(linear_model)\n",
    "            # getting derivative\n",
    "            dw = (1/samples) * np.dot(sample_x.T,y_pred - sample_y)\n",
    "            db = (1/samples) * np.sum(y_pred - sample_y)\n",
    "            # updating the weights accordingly\n",
    "            self.weights -= self.lr*dw\n",
    "            self.bias -= self.lr*db\n",
    "            # cost function\n",
    "            cost = np.square(sample_y-y_pred)\n",
    "        \n",
    "            if i%100==0: # at every 100th iteration record the cost and iters value\n",
    "                cost_list.append(cost)\n",
    "                epoch_list.append(i)\n",
    "                \n",
    "        \n",
    "        return cost_list,epoch_list\n",
    "        \n",
    "    def predict(self, X):\n",
    "        # predicting according to the obtained weights\n",
    "        linear_model = np.dot(X, self.weights) + self.bias\n",
    "        #applying sigmoid\n",
    "        y_pred = self._sigmoid(linear_model)\n",
    "        # assigns 1 if pred value is more than 0.5 and 0 otherwise\n",
    "        y_pred_cls = [1 if i > 0.5 else 0 for i in y_pred]\n",
    "        return y_pred_cls\n",
    "        \n",
    "    def _sigmoid(self, x):\n",
    "        # simple sigmoid function\n",
    "        return 1/(1 + np.exp(-x))"
   ]
  },
  {
   "cell_type": "markdown",
   "metadata": {},
   "source": [
    "## Using the defined model:"
   ]
  },
  {
   "cell_type": "code",
   "execution_count": 450,
   "metadata": {},
   "outputs": [
    {
     "name": "stdout",
     "output_type": "stream",
     "text": [
      "LR classification accuracy: 0.8829787234042553\n",
      "Precision: 0.962\n",
      "Recall: 0.718\n",
      "Accuracy: 0.883\n",
      "accuracy of each fold - [0.8263157894736842, 0.8842105263157894, 0.9153439153439153]\n",
      "Avg accuracy : 0.8752900770444629\n"
     ]
    },
    {
     "data": {
      "image/png": "[encoded data removed]",
      "text/plain": [
       "<Figure size 432x288 with 1 Axes>"
      ]
     },
     "metadata": {
      "needs_background": "light"
     },
     "output_type": "display_data"
    }
   ],
   "source": [
    "if __name__ == \"__main__\":\n",
    "    # obtaining normal accuracy of the model\n",
    "    def accuracy(y_true, y_pred):\n",
    "        accuracy = np.sum(y_true == y_pred) / len(y_true)\n",
    "        return accuracy\n",
    "    \n",
    "    # temp2 and temp are data and target values \n",
    "    X, y = temp2,temp\n",
    "    X_train, X_test, y_train, y_test = train_test_split(temp2, temp, test_size=0.33, random_state=1234)\n",
    "\n",
    "    # can change lr and iters to obtain different results\n",
    "    regressor = LogisticRS(lr = 0.0001, iters=12000)\n",
    "    axisx,axisy = regressor.fit(X_train, y_train)\n",
    "    predictions = regressor.predict(X_test)\n",
    "\n",
    "    print(\"LR classification accuracy:\", accuracy(y_test, predictions))\n",
    "    \n",
    "    # Confusion matrix and different scores\n",
    "    cm = [[0,0],[0,0]]\n",
    "    \n",
    "    for i in range(len(y_test)):\n",
    "        if(y_test[i] == 0 and predictions[i] == 0):\n",
    "            cm[0][0] += 1\n",
    "        if(y_test[i] == 0 and predictions[i] == 1):\n",
    "            cm[0][1] += 1\n",
    "        if(y_test[i] == 1 and predictions[i] == 0):\n",
    "            cm[1][0] += 1\n",
    "        if(y_test[i] == 1 and predictions[i] == 1):\n",
    "            cm[1][1] += 1\n",
    "            \n",
    "    # true negative, false positive, false negative, true positive\n",
    "    tn = cm[0][0]\n",
    "    fp = cm[0][1]\n",
    "    fn = cm[1][0]\n",
    "    tp = cm[1][1]\n",
    "    \n",
    "    precision_score = tp/(fp + tp)\n",
    "    recall_score = tp/(fn + tp)\n",
    "    accu_score = (tp + tn)/(tp + fn + tn + fp)\n",
    "    print('Precision: %.3f' % precision_score)\n",
    "    print('Recall: %.3f' % recall_score)\n",
    "    print('Accuracy: %.3f' % accu_score)\n",
    "    \n",
    "    \n",
    "    plt.xlabel(\"epoch\")\n",
    "    plt.ylabel(\"cost\")\n",
    "    plt.plot(axisy,axisx)\n",
    "    \n",
    "    #cross validation\n",
    "    kf = KFold(n_splits=3, random_state=None)\n",
    "    \n",
    "    acc_score = []\n",
    " \n",
    "    for train , test in kf.split(X):\n",
    "        X_train , X_test = X[train,:],X[test,:]\n",
    "        y_train , y_test = y[train] , y[test]\n",
    "     \n",
    "        regressor.fit(X_train,y_train)\n",
    "        pred_values = regressor.predict(X_test)\n",
    "     \n",
    "        acc = accuracy(pred_values, y_test)\n",
    "        acc_score.append(acc)\n",
    "     \n",
    "    avg_acc_score = sum(acc_score)/3\n",
    " \n",
    "    print('accuracy of each fold - {}'.format(acc_score))\n",
    "    print('Avg accuracy : {}'.format(avg_acc_score))"
   ]
  },
  {
   "cell_type": "markdown",
   "metadata": {},
   "source": [
    "## Mini-Batch Gradient Descent:"
   ]
  },
  {
   "cell_type": "code",
   "execution_count": 451,
   "metadata": {},
   "outputs": [],
   "source": [
    "class LogisticRM:\n",
    "    \n",
    "    # defining instance variables\n",
    "    def __init__(self, lr = 0.0001, iters = 100, batch_size = 10):\n",
    "        self.lr = lr\n",
    "        self.iters = iters\n",
    "        self.weights = None\n",
    "        self.bias = None\n",
    "        self.batch_size = batch_size\n",
    "    \n",
    "    def fit(self, X, y):\n",
    "        # initialize paramenters\n",
    "        samples, features = X.shape\n",
    "        # initially we set all weights equal to 0 and bias equal to 0\n",
    "        self.weights = np.zeros(features)\n",
    "        self.bias = 0\n",
    "        # for graph plotting purposes\n",
    "        cost_list = []\n",
    "        epoch_list = []\n",
    "        # mini-batch gradient descent algorithm\n",
    "        for i in range(self.iters):\n",
    "            # basically just shuffling our dataset\n",
    "            r_indices = np.random.permutation(samples)\n",
    "            sample_x = X[r_indices]\n",
    "            sample_y = y[r_indices]\n",
    "            \n",
    "            # iterating all of the data in small batches\n",
    "            for j in range(0,samples,self.batch_size):\n",
    "                Xt = sample_x[j:j+self.batch_size]\n",
    "                yt = sample_y[j:j+self.batch_size]\n",
    "                \n",
    "                # forming the linear logistic regression equation\n",
    "                linear_model = np.dot(Xt, self.weights) + self.bias\n",
    "                \n",
    "                # getting the sigmoid values for linear_model\n",
    "                y_pred = self._sigmoid(linear_model)\n",
    "                \n",
    "                # this is the derivative part\n",
    "                dw = (1/samples) * np.dot(Xt.T,y_pred - yt)\n",
    "                db = (1/samples) * np.sum(y_pred - yt)\n",
    "                \n",
    "                # updating the weights\n",
    "                self.weights -= self.lr*dw\n",
    "                self.bias -= self.lr*db\n",
    "                \n",
    "                # MSE of costs\n",
    "                cost = np.mean(np.square(yt-y_pred))\n",
    "        \n",
    "            if i%10==0: # at every 10th iteration record the cost and iters value\n",
    "                cost_list.append(cost)\n",
    "                epoch_list.append(i)\n",
    "                \n",
    "        \n",
    "        return cost_list,epoch_list\n",
    "        \n",
    "    def predict(self, X):\n",
    "        # for testing the model\n",
    "        linear_model = np.dot(X, self.weights) + self.bias\n",
    "        y_pred = self._sigmoid(linear_model)\n",
    "        # assigns 1 for pred value more than 0.5 and 0 otherwise\n",
    "        y_pred_cls = [1 if i > 0.5 else 0 for i in y_pred]\n",
    "        return y_pred_cls\n",
    "        \n",
    "    def _sigmoid(self, x):\n",
    "        # simple sigmoid function\n",
    "        return 1/(1 + np.exp(-x))"
   ]
  },
  {
   "cell_type": "markdown",
   "metadata": {},
   "source": [
    "## Using the defined model:"
   ]
  },
  {
   "cell_type": "code",
   "execution_count": 452,
   "metadata": {},
   "outputs": [
    {
     "name": "stdout",
     "output_type": "stream",
     "text": [
      "LR classification accuracy: 0.9202127659574468\n",
      "Precision: 0.952\n",
      "Recall: 0.831\n",
      "Accuracy: 0.920\n",
      "accuracy of each fold - [0.9052631578947369, 0.9210526315789473, 0.9312169312169312]\n",
      "Avg accuracy : 0.9191775735635385\n"
     ]
    },
    {
     "data": {
      "image/png": "[encoded data removed]",
      "text/plain": [
       "<Figure size 432x288 with 1 Axes>"
      ]
     },
     "metadata": {
      "needs_background": "light"
     },
     "output_type": "display_data"
    }
   ],
   "source": [
    "if __name__ == \"__main__\":\n",
    "    # simple accuracy function for predictions\n",
    "    def accuracy(y_true, y_pred):\n",
    "        accuracy = np.sum(y_true == y_pred) / len(y_true)\n",
    "        return accuracy\n",
    "    \n",
    "    # temp2 and temp are data and target variable respectively\n",
    "    X, y = temp2,temp\n",
    "    X_train, X_test, y_train, y_test = train_test_split(temp2, temp, test_size=0.33, random_state=1234)\n",
    "\n",
    "    # for simplicity purposes don't enter batch_size greater than the sample size \n",
    "    regressor = LogisticRM(lr = 0.0001, iters=500, batch_size = 20)\n",
    "    axisx,axisy = regressor.fit(X_train, y_train)\n",
    "    predictions = regressor.predict(X_test)\n",
    "\n",
    "    print(\"LR classification accuracy:\", accuracy(y_test, predictions))\n",
    "    \n",
    "    \n",
    "    plt.xlabel(\"epoch\")\n",
    "    plt.ylabel(\"cost\")\n",
    "    plt.plot(axisy,axisx)\n",
    "    \n",
    "    # Confusion matrix and different scores\n",
    "    cm = [[0,0],[0,0]]\n",
    "    \n",
    "    for i in range(len(y_test)):\n",
    "        if(y_test[i] == 0 and predictions[i] == 0):\n",
    "            cm[0][0] += 1\n",
    "        if(y_test[i] == 0 and predictions[i] == 1):\n",
    "            cm[0][1] += 1\n",
    "        if(y_test[i] == 1 and predictions[i] == 0):\n",
    "            cm[1][0] += 1\n",
    "        if(y_test[i] == 1 and predictions[i] == 1):\n",
    "            cm[1][1] += 1\n",
    "            \n",
    "    # true negative, false positive, false negative, true positive\n",
    "    tn = cm[0][0]\n",
    "    fp = cm[0][1]\n",
    "    fn = cm[1][0]\n",
    "    tp = cm[1][1]\n",
    "    \n",
    "    precision_score = tp/(fp + tp)\n",
    "    recall_score = tp/(fn + tp)\n",
    "    accu_score = (tp + tn)/(tp + fn + tn + fp)\n",
    "    print('Precision: %.3f' % precision_score)\n",
    "    print('Recall: %.3f' % recall_score)\n",
    "    print('Accuracy: %.3f' % accu_score)\n",
    "    \n",
    "    \n",
    "    # cross validation\n",
    "    kf = KFold(n_splits=3, random_state=None)\n",
    "    \n",
    "    acc_score = []\n",
    " \n",
    "    for train , test in kf.split(X):\n",
    "        X_train , X_test = X[train,:],X[test,:]\n",
    "        y_train , y_test = y[train] , y[test]\n",
    "     \n",
    "        regressor.fit(X_train,y_train)\n",
    "        pred_values = regressor.predict(X_test)\n",
    "     \n",
    "        acc = accuracy(pred_values , y_test)\n",
    "        acc_score.append(acc)\n",
    "     \n",
    "    avg_acc_score = sum(acc_score)/3\n",
    " \n",
    "    print('accuracy of each fold - {}'.format(acc_score))\n",
    "    print('Avg accuracy : {}'.format(avg_acc_score))"
   ]
  }
 ],
 "metadata": {
  "kernelspec": {
   "display_name": "Python 3",
   "language": "python",
   "name": "python3"
  },
  "language_info": {
   "codemirror_mode": {
    "name": "ipython",
    "version": 3
   },
   "file_extension": ".py",
   "mimetype": "text/x-python",
   "name": "python",
   "nbconvert_exporter": "python",
   "pygments_lexer": "ipython3",
   "version": "3.7.6"
  }
 },
 "nbformat": 4,
 "nbformat_minor": 4
}
