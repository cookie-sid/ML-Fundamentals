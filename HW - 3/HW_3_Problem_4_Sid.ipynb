{
  "nbformat": 4,
  "nbformat_minor": 5,
  "metadata": {
    "kernelspec": {
      "display_name": "Python 3",
      "language": "python",
      "name": "python3"
    },
    "language_info": {
      "codemirror_mode": {
        "name": "ipython",
        "version": 3
      },
      "file_extension": ".py",
      "mimetype": "text/x-python",
      "name": "python",
      "nbconvert_exporter": "python",
      "pygments_lexer": "ipython3",
      "version": "3.8.8"
    },
    "colab": {
      "name": "HW_3_Problem_4.ipynb",
      "provenance": []
    }
  },
  "cells": [
    {
      "cell_type": "markdown",
      "metadata": {
        "id": "4f4b48ef"
      },
      "source": [
        "# Problem 4. K-nearest Neighbor Classification\n",
        "# Part II."
      ],
      "id": "4f4b48ef"
    },
    {
      "cell_type": "markdown",
      "metadata": {
        "id": "5fa1aab3"
      },
      "source": [
        "## Preparing the dataset"
      ],
      "id": "5fa1aab3"
    },
    {
      "cell_type": "markdown",
      "metadata": {
        "id": "f97faca0"
      },
      "source": [
        "### Importing Libraries"
      ],
      "id": "f97faca0"
    },
    {
      "cell_type": "code",
      "metadata": {
        "id": "8bc5cc0d"
      },
      "source": [
        "import pandas as pd"
      ],
      "id": "8bc5cc0d",
      "execution_count": 2,
      "outputs": []
    },
    {
      "cell_type": "markdown",
      "metadata": {
        "id": "9d928c2e"
      },
      "source": [
        "### Importing the training sample"
      ],
      "id": "9d928c2e"
    },
    {
      "cell_type": "code",
      "metadata": {
        "id": "9546b377"
      },
      "source": [
        "train_sample = pd.read_csv('train.csv')"
      ],
      "id": "9546b377",
      "execution_count": 3,
      "outputs": []
    },
    {
      "cell_type": "code",
      "metadata": {
        "id": "786e403c"
      },
      "source": [
        "train_values = train_sample.values\n",
        "tn_X, tn_y = train_values[:, :-1], train_values[:, -1]"
      ],
      "id": "786e403c",
      "execution_count": 71,
      "outputs": []
    },
    {
      "cell_type": "markdown",
      "metadata": {
        "id": "ed95f215"
      },
      "source": [
        "### Importing the testing sample"
      ],
      "id": "ed95f215"
    },
    {
      "cell_type": "code",
      "metadata": {
        "id": "ddb5fce2"
      },
      "source": [
        "test_sample = pd.read_csv('test.csv')"
      ],
      "id": "ddb5fce2",
      "execution_count": 21,
      "outputs": []
    },
    {
      "cell_type": "markdown",
      "metadata": {
        "id": "c93f39bc"
      },
      "source": [
        "### Removing unwanted columns from the testing sample"
      ],
      "id": "c93f39bc"
    },
    {
      "cell_type": "code",
      "metadata": {
        "id": "4ddf9e42"
      },
      "source": [
        "final_cols = ['x','y','z','actual-class',]\n",
        "test_sample = test_sample[final_cols]"
      ],
      "id": "4ddf9e42",
      "execution_count": 73,
      "outputs": []
    },
    {
      "cell_type": "code",
      "metadata": {
        "id": "213fccc5"
      },
      "source": [
        "test_values = test_sample.values\n",
        "tt_X, tt_y = test_values[:, :-1], test_values[:, -1]"
      ],
      "id": "213fccc5",
      "execution_count": 75,
      "outputs": []
    },
    {
      "cell_type": "markdown",
      "metadata": {
        "id": "3923b662"
      },
      "source": [
        "***\n",
        "### K-Nearest Neighbors Algorithm\n",
        "***"
      ],
      "id": "3923b662"
    },
    {
      "cell_type": "markdown",
      "metadata": {
        "id": "715cb35b"
      },
      "source": [
        "### Problem 4_Part II\n",
        "### (1)"
      ],
      "id": "715cb35b"
    },
    {
      "cell_type": "markdown",
      "metadata": {
        "id": "b16e905a"
      },
      "source": [
        "###For k = 3:"
      ],
      "id": "b16e905a"
    },
    {
      "cell_type": "code",
      "metadata": {
        "colab": {
          "base_uri": "https://localhost:8080/"
        },
        "id": "9d477271",
        "outputId": "44644592-fa34-4e8e-9de2-de86e7917333"
      },
      "source": [
        "from sklearn.neighbors import KNeighborsClassifier #Importing KNN and CM\n",
        "\n",
        "\n",
        "#preparing a model\n",
        "model = KNeighborsClassifier(n_neighbors = 3)\n",
        "\n",
        "#training the model on the train sample\n",
        "model.fit(tn_X, tn_y)\n",
        "\n",
        "#predicting using the model\n",
        "prediction = model.predict(tt_X)\n",
        "print(prediction)\n",
        "print(tt_y)"
      ],
      "id": "9d477271",
      "execution_count": 77,
      "outputs": [
        {
          "output_type": "stream",
          "name": "stdout",
          "text": [
            "[1. 0. 0. 1. 0. 1. 0. 0. 0. 0. 1. 0. 0. 0. 1. 1. 1. 0. 0. 0.]\n",
            "[1. 0. 0. 1. 0. 1. 0. 0. 0. 0. 1. 0. 0. 0. 0. 1. 1. 0. 0. 0.]\n"
          ]
        }
      ]
    },
    {
      "cell_type": "markdown",
      "metadata": {
        "id": "7f9e758b"
      },
      "source": [
        "### Probability of the final prediction"
      ],
      "id": "7f9e758b"
    },
    {
      "cell_type": "code",
      "metadata": {
        "colab": {
          "base_uri": "https://localhost:8080/"
        },
        "id": "0ef62194",
        "outputId": "e8eea2f2-18df-43ba-a668-ab5b7ef87ab2"
      },
      "source": [
        "probab = model.predict_proba(tt_X)\n",
        "print(probab)"
      ],
      "id": "0ef62194",
      "execution_count": 28,
      "outputs": [
        {
          "output_type": "stream",
          "name": "stdout",
          "text": [
            "[[0.         1.        ]\n",
            " [0.66666667 0.33333333]\n",
            " [1.         0.        ]\n",
            " [0.         1.        ]\n",
            " [1.         0.        ]\n",
            " [0.         1.        ]\n",
            " [1.         0.        ]\n",
            " [1.         0.        ]\n",
            " [1.         0.        ]\n",
            " [1.         0.        ]\n",
            " [0.         1.        ]\n",
            " [1.         0.        ]\n",
            " [1.         0.        ]\n",
            " [1.         0.        ]\n",
            " [0.33333333 0.66666667]\n",
            " [0.         1.        ]\n",
            " [0.         1.        ]\n",
            " [1.         0.        ]\n",
            " [1.         0.        ]\n",
            " [1.         0.        ]]\n"
          ]
        }
      ]
    },
    {
      "cell_type": "markdown",
      "metadata": {
        "id": "ab0d95fd"
      },
      "source": [
        "### Confusion Matrix, accuracy, precision and F-measure"
      ],
      "id": "ab0d95fd"
    },
    {
      "cell_type": "code",
      "metadata": {
        "colab": {
          "base_uri": "https://localhost:8080/"
        },
        "id": "fb8539d0",
        "outputId": "9b2b7dc2-e83e-484b-9be3-0e616f987bcc"
      },
      "source": [
        "tp = 0\n",
        "tn = 0\n",
        "fp = 0\n",
        "fn = 0\n",
        "\n",
        "for x in range(len(prediction)):\n",
        "  if(prediction[x] == 0 and tt_y[x] == 0):\n",
        "    tn += 1\n",
        "  if(prediction[x] == 1 and tt_y[x] == 1):\n",
        "    tp += 1\n",
        "  if(prediction[x] == 0 and tt_y[x] == 1):\n",
        "    fn += 1\n",
        "  if(prediction[x] == 1 and tt_y[x] == 0):\n",
        "    fp += 1\n",
        "\n",
        "total = tn + fn + tp + fp\n",
        "cm = [[tp,fp],[fn,tn]]\n",
        "accuracy = (tp + tn)/total\n",
        "precision = tp/(tp + fp)\n",
        "recall = tp/(tp + fn)\n",
        "f_score = 2*precision*recall/(precision + recall)\n",
        "\n",
        "print(\"Accuracy:\",accuracy)\n",
        "print(\"Precision:\",precision)\n",
        "print(\"Recall:\",recall)\n",
        "print(\"F-Measure:\",f_score)"
      ],
      "id": "fb8539d0",
      "execution_count": 84,
      "outputs": [
        {
          "output_type": "stream",
          "name": "stdout",
          "text": [
            "Accuracy: 0.95\n",
            "Precision: 0.8571428571428571\n",
            "Recall: 1.0\n",
            "F-Measure: 0.923076923076923\n"
          ]
        }
      ]
    },
    {
      "cell_type": "markdown",
      "metadata": {
        "id": "372cac69"
      },
      "source": [
        "### Problem 4_Part II\n",
        "### (2)"
      ],
      "id": "372cac69"
    },
    {
      "cell_type": "code",
      "metadata": {
        "id": "f1656c70"
      },
      "source": [
        "#Implenting weighted KNN\n",
        "w_knn = KNeighborsClassifier(n_neighbors=3, weights='distance', p=2, metric='euclidean')"
      ],
      "id": "f1656c70",
      "execution_count": 86,
      "outputs": []
    },
    {
      "cell_type": "code",
      "metadata": {
        "colab": {
          "base_uri": "https://localhost:8080/"
        },
        "id": "3dea4328",
        "outputId": "7c76b1dc-fedb-482e-95ec-8802d5ce61ba"
      },
      "source": [
        "# Training the KNN model\n",
        "w_knn.fit(tn_X, tn_y)"
      ],
      "id": "3dea4328",
      "execution_count": 87,
      "outputs": [
        {
          "output_type": "execute_result",
          "data": {
            "text/plain": [
              "KNeighborsClassifier(algorithm='auto', leaf_size=30, metric='euclidean',\n",
              "                     metric_params=None, n_jobs=None, n_neighbors=3, p=2,\n",
              "                     weights='distance')"
            ]
          },
          "metadata": {},
          "execution_count": 87
        }
      ]
    },
    {
      "cell_type": "code",
      "metadata": {
        "colab": {
          "base_uri": "https://localhost:8080/"
        },
        "id": "aef2c209",
        "outputId": "bbc2d01d-5197-400a-df17-8f95a01a459e"
      },
      "source": [
        "#Predicting the Output\n",
        "w_prediction = w_knn.predict(tt_X)\n",
        "print(w_prediction)"
      ],
      "id": "aef2c209",
      "execution_count": 92,
      "outputs": [
        {
          "output_type": "stream",
          "name": "stdout",
          "text": [
            "[1. 0. 0. 1. 0. 1. 0. 0. 0. 0. 1. 0. 0. 0. 1. 1. 1. 0. 0. 0.]\n"
          ]
        }
      ]
    },
    {
      "cell_type": "code",
      "metadata": {
        "colab": {
          "base_uri": "https://localhost:8080/"
        },
        "id": "7929a390",
        "outputId": "62d7437d-9581-48cf-9b8f-62aa44b6b99d"
      },
      "source": [
        "tp = 0\n",
        "tn = 0\n",
        "fp = 0\n",
        "fn = 0\n",
        "\n",
        "for x in range(len(w_prediction)):\n",
        "  if(w_prediction[x] == 0 and tt_y[x] == 0):\n",
        "    tn += 1\n",
        "  if(w_prediction[x] == 1 and tt_y[x] == 1):\n",
        "    tp += 1\n",
        "  if(w_prediction[x] == 0 and tt_y[x] == 1):\n",
        "    fn += 1\n",
        "  if(w_prediction[x] == 1 and tt_y[x] == 0):\n",
        "    fp += 1\n",
        "\n",
        "total = tn + fn + tp + fp\n",
        "cm = [[tp,fp],[fn,tn]]\n",
        "accuracy = (tp + tn)/total\n",
        "precision = tp/(tp + fp)\n",
        "recall = tp/(tp + fn)\n",
        "f_score = 2*precision*recall/(precision + recall)\n",
        "\n",
        "print(\"Accuracy:\",accuracy)\n",
        "print(\"Precision:\",precision)\n",
        "print(\"Recall:\",recall)\n",
        "print(\"F-Measure:\",f_score)"
      ],
      "id": "7929a390",
      "execution_count": 93,
      "outputs": [
        {
          "output_type": "stream",
          "name": "stdout",
          "text": [
            "Accuracy: 0.95\n",
            "Precision: 0.8571428571428571\n",
            "Recall: 1.0\n",
            "F-Measure: 0.923076923076923\n"
          ]
        }
      ]
    },
    {
      "cell_type": "markdown",
      "metadata": {
        "id": "0RoZK-3Pwibe"
      },
      "source": [
        "###Since the dataset extremely small, both of the models perform same. If dataset was huge maybe one of them would have been better, and my guess would have been the weighted KNN would've been more accurate"
      ],
      "id": "0RoZK-3Pwibe"
    }
  ]
}